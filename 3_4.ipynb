{
  "cells": [
    {
      "cell_type": "markdown",
      "metadata": {
        "id": "view-in-github",
        "colab_type": "text"
      },
      "source": [
        "<a href=\"https://colab.research.google.com/github/mu132/mu132/blob/main/3_4.ipynb\" target=\"_parent\"><img src=\"https://colab.research.google.com/assets/colab-badge.svg\" alt=\"Open In Colab\"/></a>"
      ]
    },
    {
      "cell_type": "markdown",
      "metadata": {
        "id": "GGnSFGek4Woi"
      },
      "source": [
        "رنگ 10 کندل بعدی\n",
        "\n",
        "برنامه 50 عدد دیتا میگیرد تا بسته شدن کندل 51 رو پیش بینی کند\n",
        "حال می خواهیم 10 کندل بعدی را پیش بینی کند\n",
        "\n",
        "\n",
        " یعنی وقتی بسته شدن کندل 51 رو پیش بینی کرد باید آنرا به عنوان باز شدن کندل 52 ام قرار داد و حال دوباره برنامه را 9 بار تکرار کرد\n",
        "\n",
        "مشکل 1: وجود افست\n",
        "\n",
        "مشکل 2: باقی اطلاعات کندل 51 چطور ساخته شود"
      ]
    },
    {
      "cell_type": "code",
      "execution_count": 2,
      "metadata": {
        "colab": {
          "base_uri": "https://localhost:8080/"
        },
        "id": "WgGjmXCBGloT",
        "outputId": "6361e563-b73d-4c96-a653-55521695778a"
      },
      "outputs": [
        {
          "output_type": "stream",
          "name": "stdout",
          "text": [
            "Mounted at /content/drive\n"
          ]
        }
      ],
      "source": [
        "from google.colab import drive\n",
        "drive.mount('/content/drive')\n",
        "import pandas as pd\n",
        "import numpy as np\n",
        "import sklearn \n",
        "## read csv\n",
        "df = pd.read_excel('drive/My Drive/eurusd10.xlsx') \n",
        "df.head(5)\n",
        "data = df\n",
        "df = pd.DataFrame(data)\n",
        "data_np = df.to_numpy()"
      ]
    },
    {
      "cell_type": "code",
      "execution_count": 3,
      "metadata": {
        "id": "BW5Cb4hP0nIh",
        "colab": {
          "base_uri": "https://localhost:8080/"
        },
        "outputId": "ea6094dc-a0f5-4ea4-d765-8810a9b77c9e"
      },
      "outputs": [
        {
          "output_type": "execute_result",
          "data": {
            "text/plain": [
              "(100000, 5)"
            ]
          },
          "metadata": {},
          "execution_count": 3
        }
      ],
      "source": [
        "df.shape"
      ]
    },
    {
      "cell_type": "code",
      "execution_count": 4,
      "metadata": {
        "id": "E9SK_RSnNGjj",
        "colab": {
          "base_uri": "https://localhost:8080/"
        },
        "outputId": "4022228f-9e82-4059-8777-4e4bf580d134"
      },
      "outputs": [
        {
          "output_type": "stream",
          "name": "stdout",
          "text": [
            "Collecting pandas-ta\n",
            "  Downloading pandas_ta-0.3.14b.tar.gz (115 kB)\n",
            "\u001b[?25l\r\u001b[K     |██▉                             | 10 kB 23.6 MB/s eta 0:00:01\r\u001b[K     |█████▊                          | 20 kB 28.3 MB/s eta 0:00:01\r\u001b[K     |████████▌                       | 30 kB 22.2 MB/s eta 0:00:01\r\u001b[K     |███████████▍                    | 40 kB 11.3 MB/s eta 0:00:01\r\u001b[K     |██████████████▎                 | 51 kB 10.3 MB/s eta 0:00:01\r\u001b[K     |█████████████████               | 61 kB 11.8 MB/s eta 0:00:01\r\u001b[K     |████████████████████            | 71 kB 12.3 MB/s eta 0:00:01\r\u001b[K     |██████████████████████▊         | 81 kB 12.1 MB/s eta 0:00:01\r\u001b[K     |█████████████████████████▋      | 92 kB 13.2 MB/s eta 0:00:01\r\u001b[K     |████████████████████████████▌   | 102 kB 11.4 MB/s eta 0:00:01\r\u001b[K     |███████████████████████████████▎| 112 kB 11.4 MB/s eta 0:00:01\r\u001b[K     |████████████████████████████████| 115 kB 11.4 MB/s \n",
            "\u001b[?25hRequirement already satisfied: pandas in /usr/local/lib/python3.7/dist-packages (from pandas-ta) (1.3.5)\n",
            "Requirement already satisfied: python-dateutil>=2.7.3 in /usr/local/lib/python3.7/dist-packages (from pandas->pandas-ta) (2.8.2)\n",
            "Requirement already satisfied: numpy>=1.17.3 in /usr/local/lib/python3.7/dist-packages (from pandas->pandas-ta) (1.21.6)\n",
            "Requirement already satisfied: pytz>=2017.3 in /usr/local/lib/python3.7/dist-packages (from pandas->pandas-ta) (2022.1)\n",
            "Requirement already satisfied: six>=1.5 in /usr/local/lib/python3.7/dist-packages (from python-dateutil>=2.7.3->pandas->pandas-ta) (1.15.0)\n",
            "Building wheels for collected packages: pandas-ta\n",
            "  Building wheel for pandas-ta (setup.py) ... \u001b[?25l\u001b[?25hdone\n",
            "  Created wheel for pandas-ta: filename=pandas_ta-0.3.14b0-py3-none-any.whl size=218923 sha256=d8c47cb69e1c8da501c7c2dc59895a5a0d2d68d6606f87b469685697308d9c81\n",
            "  Stored in directory: /root/.cache/pip/wheels/0b/81/f0/cca85757840e4616a2c6b9fe12569d97d324c27cac60724c58\n",
            "Successfully built pandas-ta\n",
            "Installing collected packages: pandas-ta\n",
            "Successfully installed pandas-ta-0.3.14b0\n"
          ]
        }
      ],
      "source": [
        "pip install pandas-ta"
      ]
    },
    {
      "cell_type": "code",
      "execution_count": 5,
      "metadata": {
        "id": "DgT0g0QoNNQu"
      },
      "outputs": [],
      "source": [
        "import pandas_ta as ta"
      ]
    },
    {
      "cell_type": "markdown",
      "metadata": {
        "id": "jZnXKrAN8Cdw"
      },
      "source": [
        "# macd اضافه کردن "
      ]
    },
    {
      "cell_type": "code",
      "execution_count": 6,
      "metadata": {
        "id": "0_LL9m9gNYpC"
      },
      "outputs": [],
      "source": [
        "macd = df.ta.macd()\n",
        "df =np.concatenate((df, macd), axis=1)"
      ]
    },
    {
      "cell_type": "code",
      "execution_count": 7,
      "metadata": {
        "id": "RXasyWw4pwCK",
        "colab": {
          "base_uri": "https://localhost:8080/"
        },
        "outputId": "0f3de30f-5961-4a81-8bfe-b8d4e822f704"
      },
      "outputs": [
        {
          "output_type": "execute_result",
          "data": {
            "text/plain": [
              "(100000, 8)"
            ]
          },
          "metadata": {},
          "execution_count": 7
        }
      ],
      "source": [
        "df.shape"
      ]
    },
    {
      "cell_type": "markdown",
      "metadata": {
        "id": "gfGAZ60iJOnK"
      },
      "source": [
        "# خروجی"
      ]
    },
    {
      "cell_type": "code",
      "execution_count": 8,
      "metadata": {
        "id": "jfsw-LBSyZra"
      },
      "outputs": [],
      "source": [
        "#pd.DataFrame(df).to_excel('drive/My Drive/df+macd.xlsx', index=False)"
      ]
    },
    {
      "cell_type": "code",
      "execution_count": 9,
      "metadata": {
        "id": "e0KgYmNicXh4"
      },
      "outputs": [],
      "source": [
        "x_train = df[-20000:-2000]\n",
        "x_val = df[-2000+1:-1000]\n",
        "x_test = df[-1000+1:]\n",
        "y_test_rr = x_test[50:,3]\n",
        "y_test = list(range(0,1000))\n",
        "z_test = list(range(0,1000))"
      ]
    },
    {
      "cell_type": "code",
      "execution_count": 10,
      "metadata": {
        "id": "gX9v6M3J8g6q",
        "colab": {
          "base_uri": "https://localhost:8080/"
        },
        "outputId": "9f1ddcbf-7a45-4631-c586-e6eeca2dffc6"
      },
      "outputs": [
        {
          "output_type": "execute_result",
          "data": {
            "text/plain": [
              "(18000, 8)"
            ]
          },
          "metadata": {},
          "execution_count": 10
        }
      ],
      "source": [
        "x_train.shape"
      ]
    },
    {
      "cell_type": "code",
      "source": [
        "x_train.shape[0]"
      ],
      "metadata": {
        "colab": {
          "base_uri": "https://localhost:8080/"
        },
        "id": "GLickuaYLLNi",
        "outputId": "2ff1ac10-1a34-49c6-c1fb-75c3ec981810"
      },
      "execution_count": 11,
      "outputs": [
        {
          "output_type": "execute_result",
          "data": {
            "text/plain": [
              "18000"
            ]
          },
          "metadata": {},
          "execution_count": 11
        }
      ]
    },
    {
      "cell_type": "markdown",
      "metadata": {
        "id": "SNSP9bSBQTAS"
      },
      "source": [
        "برای داده‌های ما رنج قیمت‌ها و حجم معاملات بسیار متفاوت هستند. بنابراین باید داده‌ها استاندارد شوند. ما استانداردسازی را با استفاده از کمترین و بیشترین مقدار داده‌ها انجام خواهیم داد."
      ]
    },
    {
      "cell_type": "code",
      "execution_count": 12,
      "metadata": {
        "id": "jHdtfrepciJQ"
      },
      "outputs": [],
      "source": [
        "from sklearn import preprocessing\n",
        "\n",
        "minmax_scale = preprocessing.MinMaxScaler().fit(x_train)\n",
        "x_train_n = minmax_scale.transform(x_train)\n",
        "x_val_n = minmax_scale.transform(x_val)\n",
        "x_test_n = minmax_scale.transform(x_test)"
      ]
    },
    {
      "cell_type": "markdown",
      "metadata": {
        "id": "dN19jamqQoUe"
      },
      "source": [
        "می‌خواهیم قیمت سهام در هنگام باز شدن بازار را تخمین بزنیم. ما در این پروژه داده‌های مربوط به 50 روز را به شبکه می‌دهیم و می‌خواهیم مقدار قیمت باز شدن سهام را در روز بعد تخمین بزند. به همین دلیل ابتدا داده‌ها را 50 تا 50 تا جدا می‌کنیم. همینجا مقدار قیمت باز شدن را در روز 51اُم را نیز به عنوان برچسب جدا می‌کنیم."
      ]
    },
    {
      "cell_type": "code",
      "execution_count": 13,
      "metadata": {
        "id": "ECme7F65fGSp"
      },
      "outputs": [],
      "source": [
        "def slicing_50(x, history_points):\n",
        "    sliced_data = np.array([x[i  : i + history_points] for i in range(len(x) - history_points)])\n",
        "    labels = np.array([x[:,3][i + history_points] for i in range(len(x) - history_points)])\n",
        "    return sliced_data, labels"
      ]
    },
    {
      "cell_type": "markdown",
      "metadata": {
        "id": "ZY6oj5bTYkrN"
      },
      "source": [
        " با استفاده از تابعی که نوشتیم، داده‌های آموزش، اعتبارسنجی و تست را 50تا 50تا جدا کرده و برچسب‌هایشان را نیز جدا می‌کنیم."
      ]
    },
    {
      "cell_type": "code",
      "execution_count": 14,
      "metadata": {
        "id": "KGsse8nAfLKI"
      },
      "outputs": [],
      "source": [
        "history_points = 50\n",
        "x_train_n, y_train = slicing_50(x_train_n, history_points)\n",
        "x_val_n, y_val = slicing_50(x_val_n, history_points)\n",
        "x_test_n, y_test = slicing_50(x_test_n, history_points)"
      ]
    },
    {
      "cell_type": "code",
      "execution_count": 15,
      "metadata": {
        "id": "fiEQvyjERSAG",
        "colab": {
          "base_uri": "https://localhost:8080/"
        },
        "outputId": "b47c2059-b126-4da9-b4de-8cebbaf9b693"
      },
      "outputs": [
        {
          "output_type": "execute_result",
          "data": {
            "text/plain": [
              "(17950, 50, 8)"
            ]
          },
          "metadata": {},
          "execution_count": 15
        }
      ],
      "source": [
        "x_train_n.shape"
      ]
    },
    {
      "cell_type": "markdown",
      "metadata": {
        "id": "d0ULxDDmarHE"
      },
      "source": [
        "د![image.png](data:image/png;base64,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)"
      ]
    },
    {
      "cell_type": "code",
      "execution_count": 16,
      "metadata": {
        "id": "RzJxcR6xf4QD",
        "colab": {
          "base_uri": "https://localhost:8080/"
        },
        "outputId": "d4184a00-28ca-4e85-a5f5-743787f5460f"
      },
      "outputs": [
        {
          "output_type": "stream",
          "name": "stderr",
          "text": [
            "/usr/local/lib/python3.7/dist-packages/keras/optimizer_v2/adam.py:105: UserWarning: The `lr` argument is deprecated, use `learning_rate` instead.\n",
            "  super(Adam, self).__init__(name, **kwargs)\n"
          ]
        }
      ],
      "source": [
        "import keras\n",
        "import tensorflow as tf\n",
        "from keras.models import Model\n",
        "from keras.layers import Dense, Dropout, LSTM, Input, Activation, concatenate\n",
        "from keras import optimizers\n",
        "import numpy as np\n",
        "np.random.seed(4)\n",
        "tf.random.set_seed(4)\n",
        "\n",
        "lstm_input = Input(shape=(history_points, df.shape[1]), name='lstm_input')#5\n",
        "x = LSTM(50, name='lstm_0')(lstm_input)\n",
        "x = Dropout(0.2, name='lstm_dropout_0')(x)\n",
        "x = Dense(64, name='dense_0')(x)\n",
        "x = Activation('sigmoid', name='sigmoid_0')(x)\n",
        "x = Dense(1, name='dense_1')(x)\n",
        "output = Activation('linear', name='linear_output')(x)\n",
        "model = Model(inputs=lstm_input, outputs=output)\n",
        "\n",
        "adam = tf.optimizers.Adam(lr=0.0005)\n",
        "\n",
        "model.compile(optimizer=adam, loss='mse')"
      ]
    },
    {
      "cell_type": "code",
      "execution_count": 17,
      "metadata": {
        "id": "ILWDBLG1iPvK"
      },
      "outputs": [],
      "source": [
        "\n",
        "\n",
        "from keras.callbacks import ModelCheckpoint\n",
        "mcp_save = ModelCheckpoint('./stocks_price.h5', save_best_only=True, monitor='val_loss', mode='min')\n"
      ]
    },
    {
      "cell_type": "code",
      "execution_count": 18,
      "metadata": {
        "id": "I4dzZfK7KmpH",
        "colab": {
          "base_uri": "https://localhost:8080/"
        },
        "outputId": "f87694eb-7007-4601-de7a-44940354a403"
      },
      "outputs": [
        {
          "output_type": "execute_result",
          "data": {
            "text/plain": [
              "(17950, 50, 8)"
            ]
          },
          "metadata": {},
          "execution_count": 18
        }
      ],
      "source": [
        "x_train_n.shape\n"
      ]
    },
    {
      "cell_type": "code",
      "execution_count": 19,
      "metadata": {
        "id": "Le2mFcAiORlU",
        "colab": {
          "base_uri": "https://localhost:8080/"
        },
        "outputId": "88650b4b-2478-48eb-b8da-86ef1e8511e7"
      },
      "outputs": [
        {
          "output_type": "execute_result",
          "data": {
            "text/plain": [
              "(17950,)"
            ]
          },
          "metadata": {},
          "execution_count": 19
        }
      ],
      "source": [
        "y_train.shape"
      ]
    },
    {
      "cell_type": "markdown",
      "metadata": {
        "id": "avWTEj73eCm7"
      },
      "source": [
        "![image.png](data:image/png;base64,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)"
      ]
    },
    {
      "cell_type": "code",
      "execution_count": 20,
      "metadata": {
        "id": "JJVklHWUxwEH",
        "colab": {
          "base_uri": "https://localhost:8080/"
        },
        "outputId": "22fa338d-75ef-4174-ef61-6ddabc96c8ee"
      },
      "outputs": [
        {
          "output_type": "stream",
          "name": "stdout",
          "text": [
            "Epoch 1/50\n",
            "561/561 [==============================] - 17s 19ms/step - loss: 0.0039 - val_loss: 8.8370e-04\n",
            "Epoch 2/50\n",
            "561/561 [==============================] - 10s 17ms/step - loss: 8.7270e-04 - val_loss: 4.0910e-04\n",
            "Epoch 3/50\n",
            "561/561 [==============================] - 9s 16ms/step - loss: 7.0273e-04 - val_loss: 8.7477e-05\n",
            "Epoch 4/50\n",
            "561/561 [==============================] - 7s 13ms/step - loss: 6.7524e-04 - val_loss: 7.5656e-05\n",
            "Epoch 5/50\n",
            "561/561 [==============================] - 7s 13ms/step - loss: 6.3886e-04 - val_loss: 4.1488e-04\n",
            "Epoch 6/50\n",
            "561/561 [==============================] - 7s 13ms/step - loss: 6.2455e-04 - val_loss: 1.3212e-04\n",
            "Epoch 7/50\n",
            "561/561 [==============================] - 7s 13ms/step - loss: 6.0130e-04 - val_loss: 2.4148e-04\n",
            "Epoch 8/50\n",
            "561/561 [==============================] - 7s 13ms/step - loss: 6.0899e-04 - val_loss: 1.8013e-04\n",
            "Epoch 9/50\n",
            "561/561 [==============================] - 7s 13ms/step - loss: 5.9999e-04 - val_loss: 5.2177e-05\n",
            "Epoch 10/50\n",
            "561/561 [==============================] - 7s 13ms/step - loss: 5.8005e-04 - val_loss: 1.2362e-04\n",
            "Epoch 11/50\n",
            "561/561 [==============================] - 7s 13ms/step - loss: 5.6383e-04 - val_loss: 8.9864e-05\n",
            "Epoch 12/50\n",
            "561/561 [==============================] - 7s 13ms/step - loss: 5.7109e-04 - val_loss: 5.3169e-05\n",
            "Epoch 13/50\n",
            "561/561 [==============================] - 7s 13ms/step - loss: 6.0423e-04 - val_loss: 1.0148e-04\n",
            "Epoch 14/50\n",
            "561/561 [==============================] - 7s 13ms/step - loss: 5.8411e-04 - val_loss: 1.0601e-04\n",
            "Epoch 15/50\n",
            "561/561 [==============================] - 7s 12ms/step - loss: 5.4519e-04 - val_loss: 2.8107e-04\n",
            "Epoch 16/50\n",
            "561/561 [==============================] - 8s 15ms/step - loss: 5.6146e-04 - val_loss: 5.1837e-05\n",
            "Epoch 17/50\n",
            "561/561 [==============================] - 7s 13ms/step - loss: 5.6282e-04 - val_loss: 5.0621e-05\n",
            "Epoch 18/50\n",
            "561/561 [==============================] - 7s 13ms/step - loss: 5.5299e-04 - val_loss: 4.0646e-05\n",
            "Epoch 19/50\n",
            "561/561 [==============================] - 7s 13ms/step - loss: 5.5182e-04 - val_loss: 7.7077e-05\n",
            "Epoch 20/50\n",
            "561/561 [==============================] - 7s 13ms/step - loss: 5.4466e-04 - val_loss: 6.1214e-05\n",
            "Epoch 21/50\n",
            "561/561 [==============================] - 7s 13ms/step - loss: 5.3171e-04 - val_loss: 6.3602e-05\n",
            "Epoch 22/50\n",
            "561/561 [==============================] - 7s 13ms/step - loss: 5.3718e-04 - val_loss: 9.3139e-05\n",
            "Epoch 23/50\n",
            "561/561 [==============================] - 7s 12ms/step - loss: 5.3669e-04 - val_loss: 1.8599e-04\n",
            "Epoch 24/50\n",
            "561/561 [==============================] - 7s 13ms/step - loss: 5.3158e-04 - val_loss: 3.6378e-05\n",
            "Epoch 25/50\n",
            "561/561 [==============================] - 7s 13ms/step - loss: 5.1570e-04 - val_loss: 4.1750e-05\n",
            "Epoch 26/50\n",
            "561/561 [==============================] - 7s 13ms/step - loss: 5.1529e-04 - val_loss: 1.0839e-04\n",
            "Epoch 27/50\n",
            "561/561 [==============================] - 7s 13ms/step - loss: 4.7350e-04 - val_loss: 3.7940e-05\n",
            "Epoch 28/50\n",
            "561/561 [==============================] - 7s 13ms/step - loss: 4.1058e-04 - val_loss: 1.9933e-04\n",
            "Epoch 29/50\n",
            "561/561 [==============================] - 7s 13ms/step - loss: 3.1836e-04 - val_loss: 8.1691e-05\n",
            "Epoch 30/50\n",
            "561/561 [==============================] - 7s 13ms/step - loss: 2.5175e-04 - val_loss: 1.6219e-04\n",
            "Epoch 31/50\n",
            "561/561 [==============================] - 7s 13ms/step - loss: 2.1928e-04 - val_loss: 6.3751e-05\n",
            "Epoch 32/50\n",
            "561/561 [==============================] - 7s 13ms/step - loss: 1.9562e-04 - val_loss: 4.1218e-05\n",
            "Epoch 33/50\n",
            "561/561 [==============================] - 7s 13ms/step - loss: 1.8966e-04 - val_loss: 5.5019e-05\n",
            "Epoch 34/50\n",
            "561/561 [==============================] - 7s 13ms/step - loss: 1.7610e-04 - val_loss: 1.8487e-04\n",
            "Epoch 35/50\n",
            "561/561 [==============================] - 7s 13ms/step - loss: 1.5403e-04 - val_loss: 9.8818e-05\n",
            "Epoch 36/50\n",
            "561/561 [==============================] - 7s 13ms/step - loss: 1.5491e-04 - val_loss: 5.5973e-05\n",
            "Epoch 37/50\n",
            "561/561 [==============================] - 7s 13ms/step - loss: 1.4909e-04 - val_loss: 1.0547e-04\n",
            "Epoch 38/50\n",
            "561/561 [==============================] - 7s 13ms/step - loss: 1.4404e-04 - val_loss: 8.9812e-05\n",
            "Epoch 39/50\n",
            "561/561 [==============================] - 7s 13ms/step - loss: 1.3223e-04 - val_loss: 8.0434e-05\n",
            "Epoch 40/50\n",
            "561/561 [==============================] - 7s 13ms/step - loss: 1.3907e-04 - val_loss: 6.4549e-05\n",
            "Epoch 41/50\n",
            "561/561 [==============================] - 7s 13ms/step - loss: 1.1916e-04 - val_loss: 1.0150e-04\n",
            "Epoch 42/50\n",
            "561/561 [==============================] - 7s 13ms/step - loss: 1.2121e-04 - val_loss: 1.6344e-04\n",
            "Epoch 43/50\n",
            "561/561 [==============================] - 7s 13ms/step - loss: 1.2065e-04 - val_loss: 7.6845e-05\n",
            "Epoch 44/50\n",
            "561/561 [==============================] - 7s 13ms/step - loss: 1.1965e-04 - val_loss: 8.3289e-05\n",
            "Epoch 45/50\n",
            "561/561 [==============================] - 7s 13ms/step - loss: 1.1695e-04 - val_loss: 1.6017e-04\n",
            "Epoch 46/50\n",
            "561/561 [==============================] - 7s 13ms/step - loss: 1.1023e-04 - val_loss: 1.3219e-04\n",
            "Epoch 47/50\n",
            "561/561 [==============================] - 7s 13ms/step - loss: 1.0506e-04 - val_loss: 1.8110e-04\n",
            "Epoch 48/50\n",
            "561/561 [==============================] - 7s 13ms/step - loss: 1.1338e-04 - val_loss: 1.1757e-04\n",
            "Epoch 49/50\n",
            "561/561 [==============================] - 7s 13ms/step - loss: 1.0752e-04 - val_loss: 1.0713e-04\n",
            "Epoch 50/50\n",
            "561/561 [==============================] - 7s 13ms/step - loss: 1.0237e-04 - val_loss: 4.7124e-05\n"
          ]
        }
      ],
      "source": [
        "history = model.fit(x=x_train_n, y=y_train, batch_size=32, epochs=50, shuffle=True, validation_data=(x_val_n, y_val), callbacks=[mcp_save])"
      ]
    },
    {
      "cell_type": "markdown",
      "metadata": {
        "id": "39kgo7i6cOrN"
      },
      "source": [
        "![image.png](data:image/png;base64,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)"
      ]
    },
    {
      "cell_type": "code",
      "execution_count": 21,
      "metadata": {
        "id": "nFzUIBJmcGS2",
        "colab": {
          "base_uri": "https://localhost:8080/"
        },
        "outputId": "01bb56a1-34e0-4080-9685-3d64f9777e52"
      },
      "outputs": [
        {
          "output_type": "stream",
          "name": "stdout",
          "text": [
            "30/30 [==============================] - 0s 6ms/step - loss: 7.0987e-05\n",
            "7.098673086147755e-05\n"
          ]
        }
      ],
      "source": [
        "model.load_weights('./stocks_price.h5')\n",
        "evaluation = model.evaluate(x_test_n, y_test)\n",
        "print(evaluation)"
      ]
    },
    {
      "cell_type": "markdown",
      "metadata": {
        "id": "CuASyETKcp6T"
      },
      "source": [
        "![image.png](data:image/png;base64,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)"
      ]
    },
    {
      "cell_type": "code",
      "execution_count": 22,
      "metadata": {
        "id": "n3E9Yp-lcjNE"
      },
      "outputs": [],
      "source": [
        "y_train_real = np.array([x_train[:,3][i + history_points] for i in range(len(x_train) - history_points)])\n",
        "scale_back = preprocessing.MinMaxScaler().fit(np.expand_dims(y_train_real, -1))"
      ]
    },
    {
      "cell_type": "markdown",
      "metadata": {
        "id": "DHe-PS3Lc5lL"
      },
      "source": [
        "![image.png](data:image/png;base64,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)"
      ]
    },
    {
      "cell_type": "code",
      "execution_count": 23,
      "metadata": {
        "id": "qcaR3u7Ac7Yr",
        "colab": {
          "base_uri": "https://localhost:8080/"
        },
        "outputId": "720cb1d6-3fd5-41d0-d2d1-f0434578e4af"
      },
      "outputs": [
        {
          "output_type": "execute_result",
          "data": {
            "text/plain": [
              "(949, 50, 8)"
            ]
          },
          "metadata": {},
          "execution_count": 23
        }
      ],
      "source": [
        "y_test_predicted = model.predict(x_test_n)\n",
        "x_test_n.shape\n"
      ]
    },
    {
      "cell_type": "code",
      "execution_count": 24,
      "metadata": {
        "id": "mDBrkVYlfapm",
        "colab": {
          "base_uri": "https://localhost:8080/"
        },
        "outputId": "de8fb12a-b8cf-4218-b920-c157fb942fc6"
      },
      "outputs": [
        {
          "output_type": "stream",
          "name": "stdout",
          "text": [
            "4.4193390005472815e-08\n"
          ]
        }
      ],
      "source": [
        "y_test_predicted = scale_back.inverse_transform(y_test_predicted)\n",
        "y_test_real = np.array([x_test[:,3][i + history_points] for i in range(len(x_test) - history_points)])\n",
        "real_mse = np.square(np.mean(y_test_real - y_test_predicted))\n",
        "print(real_mse)"
      ]
    },
    {
      "cell_type": "markdown",
      "metadata": {
        "id": "2VMTHlRXdGVb"
      },
      "source": [
        "![image.png](data:image/png;base64,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)"
      ]
    },
    {
      "cell_type": "code",
      "execution_count": 25,
      "metadata": {
        "id": "jQfbn91tdHce",
        "colab": {
          "base_uri": "https://localhost:8080/",
          "height": 615
        },
        "outputId": "86dd46f3-24d9-49ab-c048-f35b23b310b3"
      },
      "outputs": [
        {
          "output_type": "display_data",
          "data": {
            "text/plain": [
              "<Figure size 1584x1080 with 1 Axes>"
            ],
            "image/png": "[encoded data removed]"
          },
          "metadata": {
            "needs_background": "light"
          }
        }
      ],
      "source": [
        "import matplotlib.pyplot as plt\n",
        "plt.gcf().set_size_inches(22, 15, forward=True)\n",
        "\n",
        "start = 0\n",
        "end = -1\n",
        "\n",
        "real = plt.plot(y_test_real[start:end], label='real')\n",
        "pred = plt.plot(y_test_predicted[start:end], label='predicted')\n",
        "\n",
        "\n",
        "\n",
        "plt.legend(['Real', 'Predicted'])\n",
        "\n",
        "plt.show()"
      ]
    },
    {
      "cell_type": "code",
      "source": [
        "y_test_predicted.shape"
      ],
      "metadata": {
        "id": "CA7EHw_VJPkj",
        "colab": {
          "base_uri": "https://localhost:8080/"
        },
        "outputId": "f9d06b84-0e7f-4c73-f5bf-35faebcfe348"
      },
      "execution_count": 26,
      "outputs": [
        {
          "output_type": "execute_result",
          "data": {
            "text/plain": [
              "(949, 1)"
            ]
          },
          "metadata": {},
          "execution_count": 26
        }
      ]
    },
    {
      "cell_type": "code",
      "source": [
        "y_test_real.shape"
      ],
      "metadata": {
        "id": "9q2Y7sZNPc-q",
        "colab": {
          "base_uri": "https://localhost:8080/"
        },
        "outputId": "75c85876-54cf-4127-c856-97d84cc6cd45"
      },
      "execution_count": 27,
      "outputs": [
        {
          "output_type": "execute_result",
          "data": {
            "text/plain": [
              "(949,)"
            ]
          },
          "metadata": {},
          "execution_count": 27
        }
      ]
    },
    {
      "cell_type": "code",
      "source": [
        "y_test_real = y_test_real.reshape(949,1)\n",
        "y_test_real.shape"
      ],
      "metadata": {
        "id": "MLSnwf8oPx9B",
        "colab": {
          "base_uri": "https://localhost:8080/"
        },
        "outputId": "6bd58bba-a0de-4849-c898-74bebcc8a22c"
      },
      "execution_count": 28,
      "outputs": [
        {
          "output_type": "execute_result",
          "data": {
            "text/plain": [
              "(949, 1)"
            ]
          },
          "metadata": {},
          "execution_count": 28
        }
      ]
    },
    {
      "cell_type": "code",
      "source": [
        "y_test_real[0]"
      ],
      "metadata": {
        "colab": {
          "base_uri": "https://localhost:8080/"
        },
        "id": "mKZRWi09cq7u",
        "outputId": "db95928f-6d33-4387-e2d1-d7f2ff967779"
      },
      "execution_count": 29,
      "outputs": [
        {
          "output_type": "execute_result",
          "data": {
            "text/plain": [
              "array([1.13476])"
            ]
          },
          "metadata": {},
          "execution_count": 29
        }
      ]
    },
    {
      "cell_type": "code",
      "execution_count": 30,
      "metadata": {
        "id": "Q9Ao3zZJx2-T"
      },
      "outputs": [],
      "source": [
        "for i in range(0,948):\n",
        "    if x_test[i,3] >= y_test_real[i,0]:\n",
        "        y_test[i] = 1\n",
        "    else:\n",
        "        y_test[i] = 0 \n",
        "\n"
      ]
    },
    {
      "cell_type": "code",
      "source": [
        "#for i in range(0,948):\n",
        "#    if x_test[i,3] >= x_test[i,0]:\n",
        " #       y_test[i] = 1\n",
        " #   else:\n",
        " #       y_test[i] = 0 \n"
      ],
      "metadata": {
        "id": "Yt9wZUbxdUra"
      },
      "execution_count": 31,
      "outputs": []
    },
    {
      "cell_type": "code",
      "source": [
        "y_test.shape"
      ],
      "metadata": {
        "id": "u1Co1le7KFek",
        "colab": {
          "base_uri": "https://localhost:8080/"
        },
        "outputId": "09b15330-200d-478b-febc-1328c02b8123"
      },
      "execution_count": 32,
      "outputs": [
        {
          "output_type": "execute_result",
          "data": {
            "text/plain": [
              "(949,)"
            ]
          },
          "metadata": {},
          "execution_count": 32
        }
      ]
    },
    {
      "cell_type": "code",
      "execution_count": 33,
      "metadata": {
        "id": "vxp3Cvzt3U75"
      },
      "outputs": [],
      "source": [
        "for i in range(0,948):\n",
        "    if x_test[i,0] >= y_test_predicted[i,0]:\n",
        "        z_test[i] = 1\n",
        "    else:\n",
        "        z_test[i] = 0 \n"
      ]
    },
    {
      "cell_type": "code",
      "execution_count": 34,
      "metadata": {
        "id": "dShe5pWkyAjm",
        "colab": {
          "base_uri": "https://localhost:8080/"
        },
        "outputId": "29608764-9a62-4f88-e159-6c1034953d7c"
      },
      "outputs": [
        {
          "output_type": "execute_result",
          "data": {
            "text/plain": [
              "0.9335443037974683"
            ]
          },
          "metadata": {},
          "execution_count": 34
        }
      ],
      "source": [
        "import sklearn \n",
        "from sklearn.metrics import accuracy_score\n",
        "accuracy_score(y_test[0:948], z_test[0:948])"
      ]
    },
    {
      "cell_type": "code",
      "source": [
        "x_test = df[-51:]\n",
        "x_test_n = minmax_scale.transform(x_test)\n",
        "x_test_n, y_test = slicing_50(x_test_n, history_points)\n",
        "y_test_predicted = model.predict(x_test_n)\n",
        "y_test_predicted = scale_back.inverse_transform(y_test_predicted)\n",
        "y_test_real = np.array([x_test[:,3][i + history_points] for i in range(len(x_test) - history_points)])\n",
        "y_test_predicted "
      ],
      "metadata": {
        "id": "0A-IOZjzsuD3",
        "colab": {
          "base_uri": "https://localhost:8080/"
        },
        "outputId": "ff6b5a0f-1247-4265-e2df-e0b4d3fc700a"
      },
      "execution_count": 35,
      "outputs": [
        {
          "output_type": "execute_result",
          "data": {
            "text/plain": [
              "array([[1.1144118]], dtype=float32)"
            ]
          },
          "metadata": {},
          "execution_count": 35
        }
      ]
    },
    {
      "cell_type": "code",
      "source": [
        "x_test = df[-52:]\n",
        "x_test[51] =x_test[50] \n",
        "x_test[51,0] = y_test_predicted \n",
        "x_test[51]"
      ],
      "metadata": {
        "id": "PA_ZX7po8d6w",
        "colab": {
          "base_uri": "https://localhost:8080/"
        },
        "outputId": "2886de1f-fa1f-4f26-a27f-b4b5cf153c27"
      },
      "execution_count": 36,
      "outputs": [
        {
          "output_type": "execute_result",
          "data": {
            "text/plain": [
              "array([ 1.11441183e+00,  1.11348000e+00,  1.11278000e+00,  1.11304000e+00,\n",
              "        9.69000000e+02, -1.53060535e-04,  6.96880822e-05, -2.22748617e-04])"
            ]
          },
          "metadata": {},
          "execution_count": 36
        }
      ]
    },
    {
      "cell_type": "code",
      "source": [
        "def predict(x_in,y_in):\n",
        "    x_test = x_in\n",
        "    x_test[51] =x_test[50] \n",
        "    x_test[51,0] = y_in\n",
        "    x_test_n = minmax_scale.transform(x_test)\n",
        "    x_test_n, y_test = slicing_50(x_test_n, history_points)\n",
        "    y_test_predicted = model.predict(x_test_n)\n",
        "    y_test_predicted = scale_back.inverse_transform(y_test_predicted)\n",
        "    y_test_real = np.array([x_test[:,3][i + history_points] for i in range(len(x_test) - history_points)])\n",
        "    return y_test_predicted "
      ],
      "metadata": {
        "id": "xaZxFZEMCflQ"
      },
      "execution_count": 37,
      "outputs": []
    },
    {
      "cell_type": "code",
      "source": [
        "y = print(predict(df[-52:],y_test_predicted)[1])\n",
        "print(predict(df[-52:],y))"
      ],
      "metadata": {
        "id": "FwTienqNC_OJ",
        "colab": {
          "base_uri": "https://localhost:8080/"
        },
        "outputId": "2b56d86e-5145-4f65-d646-d2a317c2666f"
      },
      "execution_count": 38,
      "outputs": [
        {
          "output_type": "stream",
          "name": "stdout",
          "text": [
            "[1.1144118]\n",
            "[[1.1146677]\n",
            " [1.1144118]]\n"
          ]
        }
      ]
    },
    {
      "cell_type": "code",
      "source": [
        "y = print(predict(x_test,1)[1])\n",
        "print(predict(x_test,1))"
      ],
      "metadata": {
        "id": "5FsA3TcUEbCy",
        "colab": {
          "base_uri": "https://localhost:8080/"
        },
        "outputId": "fe67623b-f63d-401f-9b54-2776f766f214"
      },
      "execution_count": 39,
      "outputs": [
        {
          "output_type": "stream",
          "name": "stdout",
          "text": [
            "[1.1144118]\n",
            "[[1.1146677]\n",
            " [1.1144118]]\n"
          ]
        }
      ]
    },
    {
      "cell_type": "code",
      "source": [
        "print(predict(x_test,y_test_predicted))"
      ],
      "metadata": {
        "id": "XklWc4b3EqOn",
        "colab": {
          "base_uri": "https://localhost:8080/"
        },
        "outputId": "f8eeb8f4-74e5-46d8-e7bf-f9bc74dd68b5"
      },
      "execution_count": 40,
      "outputs": [
        {
          "output_type": "stream",
          "name": "stdout",
          "text": [
            "[[1.1146677]\n",
            " [1.1144118]]\n"
          ]
        }
      ]
    },
    {
      "cell_type": "code",
      "source": [
        "import matplotlib.pyplot as plt\n",
        "plt.gcf().set_size_inches(22, 15, forward=True)\n",
        "\n",
        "start = 0\n",
        "end = -1\n",
        "\n",
        "real = plt.plot(y_test_real[0:y_test_real.shape[0]], label='real')#[start:end]\n",
        "pred = plt.plot(y_test_predicted[0:y_test_predicted.shape[0]], label='predicted') #[start:end]\n",
        "\n",
        "plt.legend(['Real', 'Predicted'])\n",
        "\n",
        "plt.show()"
      ],
      "metadata": {
        "id": "b936B4sEw87s",
        "colab": {
          "base_uri": "https://localhost:8080/",
          "height": 611
        },
        "outputId": "7f75c8f5-b772-4625-f122-132ebea24d69"
      },
      "execution_count": 41,
      "outputs": [
        {
          "output_type": "display_data",
          "data": {
            "text/plain": [
              "<Figure size 1584x1080 with 1 Axes>"
            ],
            "image/png": "[encoded data removed]"
          },
          "metadata": {
            "needs_background": "light"
          }
        }
      ]
    }
  ],
  "metadata": {
    "accelerator": "GPU",
    "colab": {
      "collapsed_sections": [],
      "name": "3-4.ipynb",
      "provenance": [],
      "include_colab_link": true
    },
    "kernelspec": {
      "display_name": "Python 3",
      "name": "python3"
    },
    "language_info": {
      "name": "python"
    }
  },
  "nbformat": 4,
  "nbformat_minor": 0
}